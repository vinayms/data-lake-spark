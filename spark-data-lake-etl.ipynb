{
 "cells": [
  {
   "cell_type": "code",
   "execution_count": 23,
   "id": "3328fb91",
   "metadata": {},
   "outputs": [
    {
     "data": {
      "application/vnd.jupyter.widget-view+json": {
       "model_id": "3a0ef48d1b3949ff84c8703004533083",
       "version_major": 2,
       "version_minor": 0
      },
      "text/plain": [
       "VBox()"
      ]
     },
     "metadata": {},
     "output_type": "display_data"
    },
    {
     "data": {
      "application/vnd.jupyter.widget-view+json": {
       "model_id": "",
       "version_major": 2,
       "version_minor": 0
      },
      "text/plain": [
       "FloatProgress(value=0.0, bar_style='info', description='Progress:', layout=Layout(height='25px', width='50%'),…"
      ]
     },
     "metadata": {},
     "output_type": "display_data"
    }
   ],
   "source": [
    "import configparser\n",
    "from datetime import datetime\n",
    "import os\n",
    "from pyspark.sql import SparkSession\n",
    "from pyspark.sql.functions import udf, col,  to_timestamp, monotonically_increasing_id\n",
    "from pyspark.sql.functions import year, month, dayofmonth, hour, weekofyear, date_format"
   ]
  },
  {
   "cell_type": "code",
   "execution_count": null,
   "id": "5edaccca",
   "metadata": {},
   "outputs": [],
   "source": [
    "#not required to load from config since this note book has the permission to the EMR Cluster and this notebook is running on AWS.\n",
    "#config = configparser.ConfigParser()\n",
    "#config.read_file(open('dl.cfg'))\n",
    "#print(config.sections())"
   ]
  },
  {
   "cell_type": "code",
   "execution_count": 24,
   "id": "bd4e4d58",
   "metadata": {},
   "outputs": [
    {
     "data": {
      "application/vnd.jupyter.widget-view+json": {
       "model_id": "514c744cf35b4136949789de3f6c22b9",
       "version_major": 2,
       "version_minor": 0
      },
      "text/plain": [
       "VBox()"
      ]
     },
     "metadata": {},
     "output_type": "display_data"
    },
    {
     "data": {
      "application/vnd.jupyter.widget-view+json": {
       "model_id": "",
       "version_major": 2,
       "version_minor": 0
      },
      "text/plain": [
       "FloatProgress(value=0.0, bar_style='info', description='Progress:', layout=Layout(height='25px', width='50%'),…"
      ]
     },
     "metadata": {},
     "output_type": "display_data"
    },
    {
     "name": "stdout",
     "output_type": "stream",
     "text": [
      "<pyspark.sql.session.SparkSession object at 0x7fa52566af60>"
     ]
    }
   ],
   "source": [
    "#os.environ['AWS_ACCESS_KEY_ID']=config['AWS_KEY']['AWS_ACCESS_KEY_ID']\n",
    "#os.environ['AWS_SECRET_ACCESS_KEY']=config['AWS_KEY']['AWS_SECRET_ACCESS_KEY']\n",
    "\n",
    "spark = SparkSession \\\n",
    "        .builder \\\n",
    "        .config(\"spark.jars.packages\", \"org.apache.hadoop:hadoop-aws:2.7.0\") \\\n",
    "        .getOrCreate()\n",
    "spark"
   ]
  },
  {
   "cell_type": "code",
   "execution_count": 37,
   "id": "57f4c3c0",
   "metadata": {},
   "outputs": [
    {
     "data": {
      "application/vnd.jupyter.widget-view+json": {
       "model_id": "ccc39a27265f48078eb17a9eee15c705",
       "version_major": 2,
       "version_minor": 0
      },
      "text/plain": [
       "VBox()"
      ]
     },
     "metadata": {},
     "output_type": "display_data"
    },
    {
     "data": {
      "application/vnd.jupyter.widget-view+json": {
       "model_id": "",
       "version_major": 2,
       "version_minor": 0
      },
      "text/plain": [
       "FloatProgress(value=0.0, bar_style='info', description='Progress:', layout=Layout(height='25px', width='50%'),…"
      ]
     },
     "metadata": {},
     "output_type": "display_data"
    },
    {
     "name": "stdout",
     "output_type": "stream",
     "text": [
      "+--------+---------+---------+------+-------------+--------+---------+-----+--------------------+------+--------+-----------------+---------+-------------+------+-------------+--------------------+------+\n",
      "|  artist|     auth|firstName|gender|itemInSession|lastName|   length|level|            location|method|    page|     registration|sessionId|         song|status|           ts|           userAgent|userId|\n",
      "+--------+---------+---------+------+-------------+--------+---------+-----+--------------------+------+--------+-----------------+---------+-------------+------+-------------+--------------------+------+\n",
      "|Harmonia|Logged In|     Ryan|     M|            0|   Smith|655.77751| free|San Jose-Sunnyval...|   PUT|NextSong|1.541016707796E12|      583|Sehr kosmisch|   200|1542241826796|\"Mozilla/5.0 (X11...|    26|\n",
      "+--------+---------+---------+------+-------------+--------+---------+-----+--------------------+------+--------+-----------------+---------+-------------+------+-------------+--------------------+------+\n",
      "only showing top 1 row"
     ]
    }
   ],
   "source": [
    "input_data = os.path.join(\"s3a://udacity-dend/\")\n",
    "output_data = \"s3a://vin-udacity-data-lake-project/\"\n",
    "log_data = spark.read.json(input_data+\"/log_data/*/*/*.json\")\n",
    "log_data.show(1)"
   ]
  },
  {
   "cell_type": "code",
   "execution_count": 26,
   "id": "405cd1b3",
   "metadata": {},
   "outputs": [
    {
     "data": {
      "application/vnd.jupyter.widget-view+json": {
       "model_id": "37b9db68de1242abac7b6954bc5c4150",
       "version_major": 2,
       "version_minor": 0
      },
      "text/plain": [
       "VBox()"
      ]
     },
     "metadata": {},
     "output_type": "display_data"
    },
    {
     "data": {
      "application/vnd.jupyter.widget-view+json": {
       "model_id": "",
       "version_major": 2,
       "version_minor": 0
      },
      "text/plain": [
       "FloatProgress(value=0.0, bar_style='info', description='Progress:', layout=Layout(height='25px', width='50%'),…"
      ]
     },
     "metadata": {},
     "output_type": "display_data"
    },
    {
     "name": "stdout",
     "output_type": "stream",
     "text": [
      "+------------------+---------------+--------------------+----------------+-----------+---------+---------+------------------+--------------------+----+\n",
      "|         artist_id|artist_latitude|     artist_location|artist_longitude|artist_name| duration|num_songs|           song_id|               title|year|\n",
      "+------------------+---------------+--------------------+----------------+-----------+---------+---------+------------------+--------------------+----+\n",
      "|AR4T2IF1187B9ADBB7|       63.96027|<a href=\"http://b...|        10.22442| Billy Idol|233.22077|        1|SOVIYJY12AF72A4B00|The Dead Next Doo...|1983|\n",
      "+------------------+---------------+--------------------+----------------+-----------+---------+---------+------------------+--------------------+----+\n",
      "only showing top 1 row"
     ]
    }
   ],
   "source": [
    "song_data = spark.read.json(input_data+\"/song_data/*/*/*\")\n",
    "song_data.show(1)"
   ]
  },
  {
   "cell_type": "code",
   "execution_count": 27,
   "id": "c30ad34c",
   "metadata": {},
   "outputs": [
    {
     "data": {
      "application/vnd.jupyter.widget-view+json": {
       "model_id": "b8b30342dc044e9caa1de78fd05fa51d",
       "version_major": 2,
       "version_minor": 0
      },
      "text/plain": [
       "VBox()"
      ]
     },
     "metadata": {},
     "output_type": "display_data"
    },
    {
     "data": {
      "application/vnd.jupyter.widget-view+json": {
       "model_id": "",
       "version_major": 2,
       "version_minor": 0
      },
      "text/plain": [
       "FloatProgress(value=0.0, bar_style='info', description='Progress:', layout=Layout(height='25px', width='50%'),…"
      ]
     },
     "metadata": {},
     "output_type": "display_data"
    },
    {
     "name": "stdout",
     "output_type": "stream",
     "text": [
      "root\n",
      " |-- artist: string (nullable = true)\n",
      " |-- auth: string (nullable = true)\n",
      " |-- firstName: string (nullable = true)\n",
      " |-- gender: string (nullable = true)\n",
      " |-- itemInSession: long (nullable = true)\n",
      " |-- lastName: string (nullable = true)\n",
      " |-- length: double (nullable = true)\n",
      " |-- level: string (nullable = true)\n",
      " |-- location: string (nullable = true)\n",
      " |-- method: string (nullable = true)\n",
      " |-- page: string (nullable = true)\n",
      " |-- registration: double (nullable = true)\n",
      " |-- sessionId: long (nullable = true)\n",
      " |-- song: string (nullable = true)\n",
      " |-- status: long (nullable = true)\n",
      " |-- ts: long (nullable = true)\n",
      " |-- userAgent: string (nullable = true)\n",
      " |-- userId: string (nullable = true)\n",
      "\n",
      "root\n",
      " |-- artist_id: string (nullable = true)\n",
      " |-- artist_latitude: double (nullable = true)\n",
      " |-- artist_location: string (nullable = true)\n",
      " |-- artist_longitude: double (nullable = true)\n",
      " |-- artist_name: string (nullable = true)\n",
      " |-- duration: double (nullable = true)\n",
      " |-- num_songs: long (nullable = true)\n",
      " |-- song_id: string (nullable = true)\n",
      " |-- title: string (nullable = true)\n",
      " |-- year: long (nullable = true)"
     ]
    }
   ],
   "source": [
    "log_data.printSchema()\n",
    "song_data.printSchema()"
   ]
  },
  {
   "cell_type": "code",
   "execution_count": 28,
   "id": "abdadc8d",
   "metadata": {},
   "outputs": [
    {
     "data": {
      "application/vnd.jupyter.widget-view+json": {
       "model_id": "83227e207cd0413d8452fb5ddf669767",
       "version_major": 2,
       "version_minor": 0
      },
      "text/plain": [
       "VBox()"
      ]
     },
     "metadata": {},
     "output_type": "display_data"
    },
    {
     "data": {
      "application/vnd.jupyter.widget-view+json": {
       "model_id": "",
       "version_major": 2,
       "version_minor": 0
      },
      "text/plain": [
       "FloatProgress(value=0.0, bar_style='info', description='Progress:', layout=Layout(height='25px', width='50%'),…"
      ]
     },
     "metadata": {},
     "output_type": "display_data"
    }
   ],
   "source": [
    "songs_data_table = song_data['song_id','title','artist_id','year','duration'].dropDuplicates(['song_id'])\n",
    "songs_data_table.write.partitionBy('year','month').parquet(os.path.join(output_data,'songs.parquet'),'overwrite')"
   ]
  },
  {
   "cell_type": "code",
   "execution_count": 29,
   "id": "3aa18d74",
   "metadata": {},
   "outputs": [
    {
     "data": {
      "application/vnd.jupyter.widget-view+json": {
       "model_id": "3ffb557e33fe44129686cb0074eeb4cd",
       "version_major": 2,
       "version_minor": 0
      },
      "text/plain": [
       "VBox()"
      ]
     },
     "metadata": {},
     "output_type": "display_data"
    },
    {
     "data": {
      "application/vnd.jupyter.widget-view+json": {
       "model_id": "",
       "version_major": 2,
       "version_minor": 0
      },
      "text/plain": [
       "FloatProgress(value=0.0, bar_style='info', description='Progress:', layout=Layout(height='25px', width='50%'),…"
      ]
     },
     "metadata": {},
     "output_type": "display_data"
    }
   ],
   "source": [
    "artists_data_table = song_data['artist_id','artist_name','artist_location','artist_latitude','artist_longitude'].dropDuplicates(['artist_id'])\n",
    "artists_data_table.write.parquet(os.path.join(output_data,'artists.parquet'),'overwrite')"
   ]
  },
  {
   "cell_type": "code",
   "execution_count": 30,
   "id": "0b423471",
   "metadata": {},
   "outputs": [
    {
     "data": {
      "application/vnd.jupyter.widget-view+json": {
       "model_id": "9a52f1ea7f0c452cb54d4b01afbe8476",
       "version_major": 2,
       "version_minor": 0
      },
      "text/plain": [
       "VBox()"
      ]
     },
     "metadata": {},
     "output_type": "display_data"
    },
    {
     "data": {
      "application/vnd.jupyter.widget-view+json": {
       "model_id": "",
       "version_major": 2,
       "version_minor": 0
      },
      "text/plain": [
       "FloatProgress(value=0.0, bar_style='info', description='Progress:', layout=Layout(height='25px', width='50%'),…"
      ]
     },
     "metadata": {},
     "output_type": "display_data"
    },
    {
     "name": "stdout",
     "output_type": "stream",
     "text": [
      "+-----------+---------+---------+------+-------------+--------+---------+-----+--------------------+------+--------+-----------------+---------+---------------+------+-------------+--------------------+------+--------------------+\n",
      "|     artist|     auth|firstName|gender|itemInSession|lastName|   length|level|            location|method|    page|     registration|sessionId|           song|status|           ts|           userAgent|userId|           timestamp|\n",
      "+-----------+---------+---------+------+-------------+--------+---------+-----+--------------------+------+--------+-----------------+---------+---------------+------+-------------+--------------------+------+--------------------+\n",
      "|   Harmonia|Logged In|     Ryan|     M|            0|   Smith|655.77751| free|San Jose-Sunnyval...|   PUT|NextSong|1.541016707796E12|      583|  Sehr kosmisch|   200|1542241826796|\"Mozilla/5.0 (X11...|    26|2018-11-15 00:30:...|\n",
      "|The Prodigy|Logged In|     Ryan|     M|            1|   Smith|260.07465| free|San Jose-Sunnyval...|   PUT|NextSong|1.541016707796E12|      583|The Big Gundown|   200|1542242481796|\"Mozilla/5.0 (X11...|    26|2018-11-15 00:41:...|\n",
      "+-----------+---------+---------+------+-------------+--------+---------+-----+--------------------+------+--------+-----------------+---------+---------------+------+-------------+--------------------+------+--------------------+\n",
      "only showing top 2 rows"
     ]
    }
   ],
   "source": [
    "#log_data.createOrReplaceTempView(\"staging_events\")\n",
    "#spark.sql(\"SELECT *, cast(ts/1000 as Timestamp) as timestamp from staging_events where page='NextSong'\").show(2)"
   ]
  },
  {
   "cell_type": "code",
   "execution_count": 38,
   "id": "398feb29",
   "metadata": {},
   "outputs": [
    {
     "data": {
      "application/vnd.jupyter.widget-view+json": {
       "model_id": "12e1f484c0d54181a92e969ab67bda4e",
       "version_major": 2,
       "version_minor": 0
      },
      "text/plain": [
       "VBox()"
      ]
     },
     "metadata": {},
     "output_type": "display_data"
    },
    {
     "data": {
      "application/vnd.jupyter.widget-view+json": {
       "model_id": "",
       "version_major": 2,
       "version_minor": 0
      },
      "text/plain": [
       "FloatProgress(value=0.0, bar_style='info', description='Progress:', layout=Layout(height='25px', width='50%'),…"
      ]
     },
     "metadata": {},
     "output_type": "display_data"
    },
    {
     "name": "stdout",
     "output_type": "stream",
     "text": [
      "+------+---------+--------+------+-----+\n",
      "|userId|firstName|lastName|gender|level|\n",
      "+------+---------+--------+------+-----+\n",
      "|    51|     Maia|   Burke|     F| free|\n",
      "|     7|   Adelyn|  Jordan|     F| free|\n",
      "+------+---------+--------+------+-----+\n",
      "only showing top 2 rows"
     ]
    }
   ],
   "source": [
    "filter = log_data['page'] == 'NextSong'\n",
    "user_table = log_data['userId','firstName','lastName','gender','level'].where(filter).dropDuplicates(['userId'])\n",
    "user_table.write.parquet(os.path.join(output_data, 'user.parquet'), 'overwrite')\n",
    "user_table.show(2)"
   ]
  },
  {
   "cell_type": "code",
   "execution_count": 39,
   "id": "cfe266c9",
   "metadata": {},
   "outputs": [
    {
     "data": {
      "application/vnd.jupyter.widget-view+json": {
       "model_id": "719e17dfbca744378ca3cd91e3a369db",
       "version_major": 2,
       "version_minor": 0
      },
      "text/plain": [
       "VBox()"
      ]
     },
     "metadata": {},
     "output_type": "display_data"
    },
    {
     "data": {
      "application/vnd.jupyter.widget-view+json": {
       "model_id": "",
       "version_major": 2,
       "version_minor": 0
      },
      "text/plain": [
       "FloatProgress(value=0.0, bar_style='info', description='Progress:', layout=Layout(height='25px', width='50%'),…"
      ]
     },
     "metadata": {},
     "output_type": "display_data"
    }
   ],
   "source": [
    "get_timestamp = udf(lambda x:str(int(int(x)/1000)))\n",
    "get_datetime = udf(lambda x:str(datetime.fromtimestamp(int(x)/1000.0)))\n",
    "log_data = log_data.withColumn('timestamp',get_timestamp(log_data.ts))\n",
    "log_data = log_data.withColumn('datetime',get_datetime(log_data.ts))\n"
   ]
  },
  {
   "cell_type": "code",
   "execution_count": 40,
   "id": "03bc7758",
   "metadata": {},
   "outputs": [
    {
     "data": {
      "application/vnd.jupyter.widget-view+json": {
       "model_id": "7db38fd12d0d440889c8746373b98a1d",
       "version_major": 2,
       "version_minor": 0
      },
      "text/plain": [
       "VBox()"
      ]
     },
     "metadata": {},
     "output_type": "display_data"
    },
    {
     "data": {
      "application/vnd.jupyter.widget-view+json": {
       "model_id": "",
       "version_major": 2,
       "version_minor": 0
      },
      "text/plain": [
       "FloatProgress(value=0.0, bar_style='info', description='Progress:', layout=Layout(height='25px', width='50%'),…"
      ]
     },
     "metadata": {},
     "output_type": "display_data"
    },
    {
     "name": "stdout",
     "output_type": "stream",
     "text": [
      "+--------------------+----+---+----+-----+----+\n",
      "|          start_time|hour|day|week|month|year|\n",
      "+--------------------+----+---+----+-----+----+\n",
      "|2018-11-15 00:30:...|   0| 15|  46|   11|2018|\n",
      "|2018-11-15 00:41:...|   0| 15|  46|   11|2018|\n",
      "|2018-11-15 00:45:...|   0| 15|  46|   11|2018|\n",
      "|2018-11-15 01:57:...|   1| 15|  46|   11|2018|\n",
      "|2018-11-15 03:29:...|   3| 15|  46|   11|2018|\n",
      "+--------------------+----+---+----+-----+----+\n",
      "only showing top 5 rows\n",
      "\n",
      "----------------------------------------\n",
      "Exception happened during processing of request from ('127.0.0.1', 34524)\n",
      "Traceback (most recent call last):\n",
      "  File \"/usr/lib64/python3.6/socketserver.py\", line 320, in _handle_request_noblock\n",
      "    self.process_request(request, client_address)\n",
      "  File \"/usr/lib64/python3.6/socketserver.py\", line 351, in process_request\n",
      "    self.finish_request(request, client_address)\n",
      "  File \"/usr/lib64/python3.6/socketserver.py\", line 364, in finish_request\n",
      "    self.RequestHandlerClass(request, client_address, self)\n",
      "  File \"/usr/lib64/python3.6/socketserver.py\", line 724, in __init__\n",
      "    self.handle()\n",
      "  File \"/usr/lib/spark/python/lib/pyspark.zip/pyspark/accumulators.py\", line 266, in handle\n",
      "    poll(authenticate_and_accum_updates)\n",
      "  File \"/usr/lib/spark/python/lib/pyspark.zip/pyspark/accumulators.py\", line 241, in poll\n",
      "    if func():\n",
      "  File \"/usr/lib/spark/python/lib/pyspark.zip/pyspark/accumulators.py\", line 254, in authenticate_and_accum_updates\n",
      "    received_token = self.rfile.read(len(auth_token))\n",
      "TypeError: object of type 'NoneType' has no len()\n",
      "----------------------------------------"
     ]
    }
   ],
   "source": [
    "time_table = log_data.select(\n",
    "    col('datetime').alias('start_time'),\n",
    "    hour('datetime').alias('hour'),\n",
    "    dayofmonth('datetime').alias('day'),\n",
    "    weekofyear('datetime').alias('week'),\n",
    "    month('datetime').alias('month'),\n",
    "    year('datetime').alias('year')                        \n",
    ")\n",
    "time_table.dropDuplicates(['start_time'])\n",
    "time_table.show(5)\n",
    "#Write to s3\n",
    "time_table.write.partitionBy('year','month').parquet(os.path.join(output_data, 'time.parquet'), 'overwrite')"
   ]
  },
  {
   "cell_type": "code",
   "execution_count": 41,
   "id": "0ae43fb9",
   "metadata": {},
   "outputs": [
    {
     "data": {
      "application/vnd.jupyter.widget-view+json": {
       "model_id": "ec281b613b7048618f619be3ba6df0c2",
       "version_major": 2,
       "version_minor": 0
      },
      "text/plain": [
       "VBox()"
      ]
     },
     "metadata": {},
     "output_type": "display_data"
    },
    {
     "data": {
      "application/vnd.jupyter.widget-view+json": {
       "model_id": "",
       "version_major": 2,
       "version_minor": 0
      },
      "text/plain": [
       "FloatProgress(value=0.0, bar_style='info', description='Progress:', layout=Layout(height='25px', width='50%'),…"
      ]
     },
     "metadata": {},
     "output_type": "display_data"
    },
    {
     "name": "stdout",
     "output_type": "stream",
     "text": [
      "root\n",
      " |-- artist: string (nullable = true)\n",
      " |-- auth: string (nullable = true)\n",
      " |-- firstName: string (nullable = true)\n",
      " |-- gender: string (nullable = true)\n",
      " |-- itemInSession: long (nullable = true)\n",
      " |-- lastName: string (nullable = true)\n",
      " |-- length: double (nullable = true)\n",
      " |-- level: string (nullable = true)\n",
      " |-- location: string (nullable = true)\n",
      " |-- method: string (nullable = true)\n",
      " |-- page: string (nullable = true)\n",
      " |-- registration: double (nullable = true)\n",
      " |-- sessionId: long (nullable = true)\n",
      " |-- song: string (nullable = true)\n",
      " |-- status: long (nullable = true)\n",
      " |-- ts: long (nullable = true)\n",
      " |-- userAgent: string (nullable = true)\n",
      " |-- userId: string (nullable = true)\n",
      " |-- timestamp: string (nullable = true)\n",
      " |-- datetime: string (nullable = true)\n",
      "\n",
      "root\n",
      " |-- artist_id: string (nullable = true)\n",
      " |-- artist_latitude: double (nullable = true)\n",
      " |-- artist_location: string (nullable = true)\n",
      " |-- artist_longitude: double (nullable = true)\n",
      " |-- artist_name: string (nullable = true)\n",
      " |-- duration: double (nullable = true)\n",
      " |-- num_songs: long (nullable = true)\n",
      " |-- song_id: string (nullable = true)\n",
      " |-- title: string (nullable = true)\n",
      " |-- year: long (nullable = true)"
     ]
    }
   ],
   "source": [
    "log_data.printSchema()\n",
    "song_data.printSchema()"
   ]
  },
  {
   "cell_type": "code",
   "execution_count": 43,
   "id": "0b5f1062",
   "metadata": {},
   "outputs": [
    {
     "data": {
      "application/vnd.jupyter.widget-view+json": {
       "model_id": "c70d66200162422f83d0cda9343ffed5",
       "version_major": 2,
       "version_minor": 0
      },
      "text/plain": [
       "VBox()"
      ]
     },
     "metadata": {},
     "output_type": "display_data"
    },
    {
     "data": {
      "application/vnd.jupyter.widget-view+json": {
       "model_id": "",
       "version_major": 2,
       "version_minor": 0
      },
      "text/plain": [
       "FloatProgress(value=0.0, bar_style='info', description='Progress:', layout=Layout(height='25px', width='50%'),…"
      ]
     },
     "metadata": {},
     "output_type": "display_data"
    }
   ],
   "source": [
    "log_data = log_data.join(song_data, song_data.title == log_data.song)"
   ]
  },
  {
   "cell_type": "code",
   "execution_count": 50,
   "id": "627cbc61",
   "metadata": {},
   "outputs": [
    {
     "data": {
      "application/vnd.jupyter.widget-view+json": {
       "model_id": "8eaae2868e9b4055952f001d7bb44676",
       "version_major": 2,
       "version_minor": 0
      },
      "text/plain": [
       "VBox()"
      ]
     },
     "metadata": {},
     "output_type": "display_data"
    },
    {
     "data": {
      "application/vnd.jupyter.widget-view+json": {
       "model_id": "",
       "version_major": 2,
       "version_minor": 0
      },
      "text/plain": [
       "FloatProgress(value=0.0, bar_style='info', description='Progress:', layout=Layout(height='25px', width='50%'),…"
      ]
     },
     "metadata": {},
     "output_type": "display_data"
    },
    {
     "name": "stdout",
     "output_type": "stream",
     "text": [
      "[Row(songplay_id=8589934592), Row(songplay_id=25769803776), Row(songplay_id=34359738368), Row(songplay_id=34359738369), Row(songplay_id=68719476736), Row(songplay_id=103079215104), Row(songplay_id=103079215105), Row(songplay_id=111669149696), Row(songplay_id=111669149697), Row(songplay_id=137438953472), Row(songplay_id=137438953473), Row(songplay_id=137438953474), Row(songplay_id=137438953475), Row(songplay_id=137438953476), Row(songplay_id=137438953477), Row(songplay_id=137438953478), Row(songplay_id=137438953479), Row(songplay_id=137438953480), Row(songplay_id=137438953481), Row(songplay_id=146028888064), Row(songplay_id=163208757248), Row(songplay_id=188978561024), Row(songplay_id=188978561025), Row(songplay_id=188978561026), Row(songplay_id=188978561027), Row(songplay_id=188978561028), Row(songplay_id=188978561029), Row(songplay_id=188978561030), Row(songplay_id=197568495616), Row(songplay_id=206158430208), Row(songplay_id=206158430209), Row(songplay_id=206158430210), Row(songplay_id=206158430211), Row(songplay_id=206158430212), Row(songplay_id=206158430213), Row(songplay_id=206158430214), Row(songplay_id=206158430215), Row(songplay_id=214748364800), Row(songplay_id=214748364801), Row(songplay_id=240518168576), Row(songplay_id=240518168577), Row(songplay_id=257698037760), Row(songplay_id=274877906944), Row(songplay_id=274877906945), Row(songplay_id=283467841536), Row(songplay_id=283467841537), Row(songplay_id=283467841538), Row(songplay_id=283467841539), Row(songplay_id=283467841540), Row(songplay_id=300647710720), Row(songplay_id=300647710721), Row(songplay_id=309237645312), Row(songplay_id=309237645313), Row(songplay_id=326417514496), Row(songplay_id=326417514497), Row(songplay_id=326417514498), Row(songplay_id=352187318272), Row(songplay_id=360777252864), Row(songplay_id=377957122048), Row(songplay_id=386547056640), Row(songplay_id=386547056641), Row(songplay_id=386547056642), Row(songplay_id=386547056643), Row(songplay_id=386547056644), Row(songplay_id=386547056645), Row(songplay_id=395136991232), Row(songplay_id=403726925824), Row(songplay_id=429496729600), Row(songplay_id=429496729601), Row(songplay_id=489626271744), Row(songplay_id=489626271745), Row(songplay_id=489626271746), Row(songplay_id=506806140928), Row(songplay_id=506806140929), Row(songplay_id=506806140930), Row(songplay_id=515396075520), Row(songplay_id=532575944704), Row(songplay_id=532575944705), Row(songplay_id=541165879296), Row(songplay_id=549755813888), Row(songplay_id=549755813889), Row(songplay_id=549755813890), Row(songplay_id=549755813891), Row(songplay_id=549755813892), Row(songplay_id=549755813893), Row(songplay_id=549755813894), Row(songplay_id=549755813895), Row(songplay_id=549755813896), Row(songplay_id=549755813897), Row(songplay_id=549755813898), Row(songplay_id=549755813899), Row(songplay_id=549755813900), Row(songplay_id=566935683072), Row(songplay_id=575525617664), Row(songplay_id=575525617665), Row(songplay_id=575525617666), Row(songplay_id=575525617667), Row(songplay_id=584115552256), Row(songplay_id=584115552257), Row(songplay_id=601295421440), Row(songplay_id=601295421441), Row(songplay_id=609885356032), Row(songplay_id=618475290624), Row(songplay_id=618475290625), Row(songplay_id=618475290626), Row(songplay_id=618475290627), Row(songplay_id=627065225216), Row(songplay_id=644245094400), Row(songplay_id=644245094401), Row(songplay_id=644245094402), Row(songplay_id=644245094403), Row(songplay_id=644245094404), Row(songplay_id=652835028992), Row(songplay_id=652835028993), Row(songplay_id=678604832768), Row(songplay_id=695784701952), Row(songplay_id=695784701953), Row(songplay_id=712964571136), Row(songplay_id=721554505728), Row(songplay_id=721554505729), Row(songplay_id=721554505730), Row(songplay_id=721554505731), Row(songplay_id=730144440320), Row(songplay_id=730144440321), Row(songplay_id=730144440322), Row(songplay_id=730144440323), Row(songplay_id=738734374912), Row(songplay_id=738734374913), Row(songplay_id=738734374914), Row(songplay_id=738734374915), Row(songplay_id=747324309504), Row(songplay_id=755914244096), Row(songplay_id=755914244097), Row(songplay_id=764504178688), Row(songplay_id=773094113280), Row(songplay_id=773094113281), Row(songplay_id=773094113282), Row(songplay_id=781684047872), Row(songplay_id=798863917056), Row(songplay_id=807453851648), Row(songplay_id=833223655424), Row(songplay_id=841813590016), Row(songplay_id=850403524608), Row(songplay_id=850403524609), Row(songplay_id=850403524610), Row(songplay_id=850403524611), Row(songplay_id=858993459200), Row(songplay_id=867583393792), Row(songplay_id=876173328384), Row(songplay_id=884763262976), Row(songplay_id=901943132160), Row(songplay_id=910533066752), Row(songplay_id=919123001344), Row(songplay_id=944892805120), Row(songplay_id=944892805121), Row(songplay_id=962072674304), Row(songplay_id=962072674305), Row(songplay_id=962072674306), Row(songplay_id=970662608896), Row(songplay_id=979252543488), Row(songplay_id=987842478080), Row(songplay_id=987842478081), Row(songplay_id=987842478082), Row(songplay_id=1005022347264), Row(songplay_id=1005022347265), Row(songplay_id=1005022347266), Row(songplay_id=1013612281856), Row(songplay_id=1013612281857), Row(songplay_id=1013612281858), Row(songplay_id=1013612281859), Row(songplay_id=1022202216448), Row(songplay_id=1022202216449), Row(songplay_id=1022202216450), Row(songplay_id=1030792151040), Row(songplay_id=1030792151041), Row(songplay_id=1039382085632), Row(songplay_id=1047972020224), Row(songplay_id=1056561954816), Row(songplay_id=1056561954817), Row(songplay_id=1056561954818), Row(songplay_id=1056561954819), Row(songplay_id=1065151889408), Row(songplay_id=1065151889409), Row(songplay_id=1082331758592), Row(songplay_id=1082331758593), Row(songplay_id=1108101562368), Row(songplay_id=1108101562369), Row(songplay_id=1108101562370), Row(songplay_id=1108101562371), Row(songplay_id=1108101562372), Row(songplay_id=1108101562373), Row(songplay_id=1125281431552), Row(songplay_id=1125281431553), Row(songplay_id=1142461300736), Row(songplay_id=1151051235328), Row(songplay_id=1151051235329), Row(songplay_id=1151051235330), Row(songplay_id=1151051235331), Row(songplay_id=1151051235332), Row(songplay_id=1151051235333), Row(songplay_id=1151051235334), Row(songplay_id=1168231104512), Row(songplay_id=1168231104513), Row(songplay_id=1176821039104), Row(songplay_id=1202590842880), Row(songplay_id=1202590842881), Row(songplay_id=1202590842882), Row(songplay_id=1211180777472), Row(songplay_id=1211180777473), Row(songplay_id=1211180777474), Row(songplay_id=1211180777475), Row(songplay_id=1219770712064), Row(songplay_id=1219770712065), Row(songplay_id=1219770712066), Row(songplay_id=1219770712067), Row(songplay_id=1228360646656), Row(songplay_id=1236950581248), Row(songplay_id=1236950581249), Row(songplay_id=1245540515840), Row(songplay_id=1271310319616), Row(songplay_id=1279900254208), Row(songplay_id=1279900254209), Row(songplay_id=1279900254210), Row(songplay_id=1288490188800), Row(songplay_id=1288490188801), Row(songplay_id=1297080123392), Row(songplay_id=1297080123393), Row(songplay_id=1314259992576), Row(songplay_id=1314259992577), Row(songplay_id=1314259992578), Row(songplay_id=1331439861760), Row(songplay_id=1331439861761), Row(songplay_id=1331439861762), Row(songplay_id=1331439861763), Row(songplay_id=1340029796352), Row(songplay_id=1340029796353), Row(songplay_id=1340029796354), Row(songplay_id=1340029796355), Row(songplay_id=1340029796356), Row(songplay_id=1340029796357), Row(songplay_id=1340029796358), Row(songplay_id=1340029796359), Row(songplay_id=1340029796360), Row(songplay_id=1340029796361), Row(songplay_id=1340029796362), Row(songplay_id=1340029796363), Row(songplay_id=1340029796364), Row(songplay_id=1340029796365), Row(songplay_id=1340029796366), Row(songplay_id=1340029796367), Row(songplay_id=1340029796368), Row(songplay_id=1340029796369), Row(songplay_id=1340029796370), Row(songplay_id=1340029796371), Row(songplay_id=1340029796372), Row(songplay_id=1340029796373), Row(songplay_id=1340029796374), Row(songplay_id=1340029796375), Row(songplay_id=1340029796376), Row(songplay_id=1340029796377), Row(songplay_id=1340029796378), Row(songplay_id=1340029796379), Row(songplay_id=1340029796380), Row(songplay_id=1340029796381), Row(songplay_id=1340029796382), Row(songplay_id=1340029796383), Row(songplay_id=1340029796384), Row(songplay_id=1340029796385), Row(songplay_id=1340029796386), Row(songplay_id=1340029796387), Row(songplay_id=1340029796388), Row(songplay_id=1340029796389), Row(songplay_id=1348619730944), Row(songplay_id=1348619730945), Row(songplay_id=1348619730946), Row(songplay_id=1348619730947), Row(songplay_id=1348619730948), Row(songplay_id=1348619730949), Row(songplay_id=1348619730950), Row(songplay_id=1348619730951), Row(songplay_id=1348619730952), Row(songplay_id=1357209665536), Row(songplay_id=1365799600128), Row(songplay_id=1365799600129), Row(songplay_id=1365799600130), Row(songplay_id=1374389534720), Row(songplay_id=1374389534721), Row(songplay_id=1391569403904), Row(songplay_id=1391569403905), Row(songplay_id=1391569403906), Row(songplay_id=1408749273088), Row(songplay_id=1408749273089), Row(songplay_id=1408749273090), Row(songplay_id=1408749273091), Row(songplay_id=1417339207680), Row(songplay_id=1417339207681), Row(songplay_id=1417339207682), Row(songplay_id=1434519076864), Row(songplay_id=1434519076865), Row(songplay_id=1434519076866), Row(songplay_id=1434519076867), Row(songplay_id=1434519076868), Row(songplay_id=1434519076869), Row(songplay_id=1434519076870), Row(songplay_id=1434519076871), Row(songplay_id=1443109011456), Row(songplay_id=1460288880640), Row(songplay_id=1511828488192), Row(songplay_id=1520418422784), Row(songplay_id=1529008357376), Row(songplay_id=1529008357377), Row(songplay_id=1529008357378), Row(songplay_id=1529008357379), Row(songplay_id=1529008357380), Row(songplay_id=1537598291968), Row(songplay_id=1537598291969), Row(songplay_id=1537598291970), Row(songplay_id=1537598291971), Row(songplay_id=1546188226560), Row(songplay_id=1546188226561), Row(songplay_id=1546188226562), Row(songplay_id=1554778161152), Row(songplay_id=1563368095744), Row(songplay_id=1563368095745), Row(songplay_id=1571958030336), Row(songplay_id=1571958030337), Row(songplay_id=1571958030338), Row(songplay_id=1571958030339), Row(songplay_id=1571958030340), Row(songplay_id=1571958030341), Row(songplay_id=1571958030342), Row(songplay_id=1580547964928), Row(songplay_id=1580547964929), Row(songplay_id=1589137899520), Row(songplay_id=1589137899521), Row(songplay_id=1589137899522), Row(songplay_id=1589137899523), Row(songplay_id=1614907703296), Row(songplay_id=1623497637888), Row(songplay_id=1623497637889), Row(songplay_id=1623497637890), Row(songplay_id=1632087572480), Row(songplay_id=1632087572481), Row(songplay_id=1632087572482), Row(songplay_id=1640677507072), Row(songplay_id=1640677507073), Row(songplay_id=1640677507074), Row(songplay_id=1640677507075), Row(songplay_id=1640677507076), Row(songplay_id=1649267441664), Row(songplay_id=1649267441665), Row(songplay_id=1649267441666), Row(songplay_id=1657857376256), Row(songplay_id=1657857376257), Row(songplay_id=1657857376258), Row(songplay_id=1657857376259), Row(songplay_id=1657857376260), Row(songplay_id=1675037245440), Row(songplay_id=1675037245441), Row(songplay_id=1675037245442), Row(songplay_id=1675037245443), Row(songplay_id=1675037245444), Row(songplay_id=1675037245445), Row(songplay_id=1683627180032), Row(songplay_id=1683627180033), Row(songplay_id=1683627180034), Row(songplay_id=1692217114624), Row(songplay_id=1700807049216), Row(songplay_id=1709396983808), Row(songplay_id=1709396983809), Row(songplay_id=1717986918400), Row(songplay_id=1717986918401), Row(songplay_id=1735166787584), Row(songplay_id=1743756722176), Row(songplay_id=1778116460544), Row(songplay_id=1778116460545), Row(songplay_id=1778116460546), Row(songplay_id=1778116460547), Row(songplay_id=1778116460548), Row(songplay_id=1778116460549), Row(songplay_id=1778116460550), Row(songplay_id=1778116460551), Row(songplay_id=1786706395136), Row(songplay_id=1786706395137), Row(songplay_id=1795296329728), Row(songplay_id=1795296329729), Row(songplay_id=1812476198912), Row(songplay_id=1821066133504), Row(songplay_id=1821066133505), Row(songplay_id=1829656068096), Row(songplay_id=1829656068097), Row(songplay_id=1829656068098), Row(songplay_id=1829656068099), Row(songplay_id=1838246002688), Row(songplay_id=1838246002689), Row(songplay_id=1846835937280), Row(songplay_id=1846835937281), Row(songplay_id=1855425871872), Row(songplay_id=1855425871873), Row(songplay_id=1855425871874), Row(songplay_id=1872605741056), Row(songplay_id=1881195675648), Row(songplay_id=1889785610240), Row(songplay_id=1898375544832), Row(songplay_id=1898375544833), Row(songplay_id=1898375544834), Row(songplay_id=1898375544835), Row(songplay_id=1915555414016), Row(songplay_id=1915555414017), Row(songplay_id=1915555414018), Row(songplay_id=1915555414019), Row(songplay_id=1915555414020), Row(songplay_id=1924145348608), Row(songplay_id=1924145348609), Row(songplay_id=1932735283200), Row(songplay_id=1932735283201), Row(songplay_id=1932735283202), Row(songplay_id=1932735283203), Row(songplay_id=1932735283204), Row(songplay_id=1932735283205), Row(songplay_id=1941325217792), Row(songplay_id=1949915152384), Row(songplay_id=1958505086976), Row(songplay_id=1967095021568), Row(songplay_id=1975684956160), Row(songplay_id=1975684956161), Row(songplay_id=1975684956162), Row(songplay_id=1975684956163), Row(songplay_id=1975684956164), Row(songplay_id=1975684956165), Row(songplay_id=1975684956166), Row(songplay_id=1975684956167), Row(songplay_id=1975684956168), Row(songplay_id=1984274890752), Row(songplay_id=1992864825344), Row(songplay_id=1992864825345), Row(songplay_id=1992864825346), Row(songplay_id=1992864825347), Row(songplay_id=1992864825348), Row(songplay_id=2018634629120), Row(songplay_id=2018634629121), Row(songplay_id=2018634629122), Row(songplay_id=2035814498304), Row(songplay_id=2044404432896), Row(songplay_id=2044404432897), Row(songplay_id=2044404432898), Row(songplay_id=2052994367488), Row(songplay_id=2061584302080), Row(songplay_id=2061584302081), Row(songplay_id=2061584302082), Row(songplay_id=2061584302083), Row(songplay_id=2061584302084), Row(songplay_id=2061584302085), Row(songplay_id=2078764171264), Row(songplay_id=2078764171265), Row(songplay_id=2078764171266), Row(songplay_id=2078764171267), Row(songplay_id=2078764171268), Row(songplay_id=2078764171269), Row(songplay_id=2078764171270), Row(songplay_id=2087354105856), Row(songplay_id=2113123909632), Row(songplay_id=2113123909633), Row(songplay_id=2130303778816), Row(songplay_id=2130303778817), Row(songplay_id=2130303778818), Row(songplay_id=2130303778819), Row(songplay_id=2130303778820), Row(songplay_id=2138893713408), Row(songplay_id=2147483648000), Row(songplay_id=2147483648001), Row(songplay_id=2147483648002), Row(songplay_id=2147483648003), Row(songplay_id=2156073582592), Row(songplay_id=2164663517184), Row(songplay_id=2181843386368), Row(songplay_id=2181843386369), Row(songplay_id=2190433320960), Row(songplay_id=2190433320961), Row(songplay_id=2190433320962), Row(songplay_id=2199023255552), Row(songplay_id=2199023255553), Row(songplay_id=2199023255554), Row(songplay_id=2199023255555), Row(songplay_id=2199023255556), Row(songplay_id=2199023255557), Row(songplay_id=2199023255558), Row(songplay_id=2199023255559), Row(songplay_id=2199023255560), Row(songplay_id=2199023255561), Row(songplay_id=2207613190144), Row(songplay_id=2207613190145), Row(songplay_id=2207613190146), Row(songplay_id=2207613190147), Row(songplay_id=2207613190148), Row(songplay_id=2216203124736), Row(songplay_id=2216203124737), Row(songplay_id=2224793059328), Row(songplay_id=2224793059329), Row(songplay_id=2224793059330), Row(songplay_id=2224793059331), Row(songplay_id=2224793059332), Row(songplay_id=2224793059333), Row(songplay_id=2233382993920), Row(songplay_id=2233382993921), Row(songplay_id=2241972928512), Row(songplay_id=2241972928513), Row(songplay_id=2241972928514), Row(songplay_id=2250562863104), Row(songplay_id=2250562863105), Row(songplay_id=2250562863106), Row(songplay_id=2250562863107), Row(songplay_id=2267742732288), Row(songplay_id=2276332666880), Row(songplay_id=2276332666881), Row(songplay_id=2284922601472), Row(songplay_id=2284922601473), Row(songplay_id=2284922601474), Row(songplay_id=2284922601475), Row(songplay_id=2284922601476), Row(songplay_id=2284922601477), Row(songplay_id=2284922601478), Row(songplay_id=2284922601479), Row(songplay_id=2284922601480), Row(songplay_id=2284922601481), Row(songplay_id=2293512536064), Row(songplay_id=2293512536065), Row(songplay_id=2293512536066), Row(songplay_id=2302102470656), Row(songplay_id=2302102470657), Row(songplay_id=2310692405248), Row(songplay_id=2319282339840), Row(songplay_id=2319282339841), Row(songplay_id=2327872274432), Row(songplay_id=2327872274433), Row(songplay_id=2336462209024), Row(songplay_id=2345052143616), Row(songplay_id=2345052143617), Row(songplay_id=2345052143618), Row(songplay_id=2345052143619), Row(songplay_id=2362232012800), Row(songplay_id=2362232012801), Row(songplay_id=2362232012802), Row(songplay_id=2370821947392), Row(songplay_id=2370821947393), Row(songplay_id=2379411881984), Row(songplay_id=2388001816576), Row(songplay_id=2388001816577), Row(songplay_id=2396591751168), Row(songplay_id=2396591751169), Row(songplay_id=2396591751170), Row(songplay_id=2396591751171), Row(songplay_id=2413771620352), Row(songplay_id=2422361554944), Row(songplay_id=2439541424128), Row(songplay_id=2439541424129), Row(songplay_id=2439541424130), Row(songplay_id=2439541424131), Row(songplay_id=2439541424132), Row(songplay_id=2439541424133), Row(songplay_id=2439541424134), Row(songplay_id=2439541424135), Row(songplay_id=2439541424136), Row(songplay_id=2439541424137), Row(songplay_id=2448131358720), Row(songplay_id=2448131358721), Row(songplay_id=2448131358722), Row(songplay_id=2456721293312), Row(songplay_id=2456721293313), Row(songplay_id=2465311227904), Row(songplay_id=2465311227905), Row(songplay_id=2465311227906), Row(songplay_id=2465311227907), Row(songplay_id=2465311227908), Row(songplay_id=2465311227909), Row(songplay_id=2465311227910), Row(songplay_id=2491081031680), Row(songplay_id=2491081031681), Row(songplay_id=2499670966272), Row(songplay_id=2508260900864), Row(songplay_id=2508260900865), Row(songplay_id=2516850835456), Row(songplay_id=2516850835457), Row(songplay_id=2516850835458), Row(songplay_id=2516850835459), Row(songplay_id=2525440770048), Row(songplay_id=2525440770049), Row(songplay_id=2525440770050), Row(songplay_id=2525440770051), Row(songplay_id=2525440770052), Row(songplay_id=2525440770053), Row(songplay_id=2534030704640), Row(songplay_id=2542620639232), Row(songplay_id=2542620639233), Row(songplay_id=2551210573824), Row(songplay_id=2551210573825), Row(songplay_id=2551210573826), Row(songplay_id=2551210573827), Row(songplay_id=2551210573828), Row(songplay_id=2559800508416), Row(songplay_id=2568390443008), Row(songplay_id=2568390443009), Row(songplay_id=2568390443010), Row(songplay_id=2568390443011), Row(songplay_id=2568390443012), Row(songplay_id=2585570312192), Row(songplay_id=2594160246784), Row(songplay_id=2594160246785), Row(songplay_id=2594160246786), Row(songplay_id=2594160246787), Row(songplay_id=2594160246788), Row(songplay_id=2602750181376), Row(songplay_id=2602750181377), Row(songplay_id=2602750181378), Row(songplay_id=2602750181379), Row(songplay_id=2602750181380), Row(songplay_id=2602750181381), Row(songplay_id=2602750181382), Row(songplay_id=2602750181383), Row(songplay_id=2602750181384), Row(songplay_id=2602750181385), Row(songplay_id=2602750181386), Row(songplay_id=2602750181387), Row(songplay_id=2602750181388), Row(songplay_id=2602750181389), Row(songplay_id=2611340115968), Row(songplay_id=2611340115969), Row(songplay_id=2619930050560), Row(songplay_id=2619930050561), Row(songplay_id=2619930050562), Row(songplay_id=2619930050563), Row(songplay_id=2619930050564), Row(songplay_id=2619930050565), Row(songplay_id=2628519985152), Row(songplay_id=2628519985153), Row(songplay_id=2637109919744), Row(songplay_id=2637109919745), Row(songplay_id=2637109919746), Row(songplay_id=2637109919747), Row(songplay_id=2637109919748), Row(songplay_id=2637109919749), Row(songplay_id=2637109919750), Row(songplay_id=2637109919751), Row(songplay_id=2637109919752), Row(songplay_id=2637109919753), Row(songplay_id=2637109919754), Row(songplay_id=2637109919755), Row(songplay_id=2637109919756), Row(songplay_id=2637109919757), Row(songplay_id=2637109919758), Row(songplay_id=2637109919759), Row(songplay_id=2637109919760), Row(songplay_id=2637109919761), Row(songplay_id=2645699854336), Row(songplay_id=2645699854337), Row(songplay_id=2645699854338), Row(songplay_id=2662879723520), Row(songplay_id=2662879723521), Row(songplay_id=2680059592704), Row(songplay_id=2688649527296), Row(songplay_id=2688649527297), Row(songplay_id=2688649527298), Row(songplay_id=2714419331072), Row(songplay_id=2723009265664), Row(songplay_id=2723009265665), Row(songplay_id=2723009265666), Row(songplay_id=2723009265667), Row(songplay_id=2723009265668), Row(songplay_id=2731599200256), Row(songplay_id=2731599200257), Row(songplay_id=2731599200258), Row(songplay_id=2731599200259), Row(songplay_id=2740189134848), Row(songplay_id=2740189134849), Row(songplay_id=2740189134850), Row(songplay_id=2740189134851), Row(songplay_id=2740189134852), Row(songplay_id=2740189134853), Row(songplay_id=2748779069440), Row(songplay_id=2757369004032), Row(songplay_id=2757369004033), Row(songplay_id=2757369004034), Row(songplay_id=2765958938624), Row(songplay_id=2765958938625), Row(songplay_id=2765958938626), Row(songplay_id=2774548873216), Row(songplay_id=2774548873217), Row(songplay_id=2783138807808), Row(songplay_id=2783138807809), Row(songplay_id=2791728742400), Row(songplay_id=2817498546176), Row(songplay_id=2817498546177), Row(songplay_id=2817498546178), Row(songplay_id=2817498546179), Row(songplay_id=2826088480768), Row(songplay_id=2826088480769), Row(songplay_id=2826088480770), Row(songplay_id=2826088480771), Row(songplay_id=2851858284544), Row(songplay_id=2851858284545), Row(songplay_id=2860448219136), Row(songplay_id=2860448219137), Row(songplay_id=2860448219138), Row(songplay_id=2860448219139), Row(songplay_id=2860448219140), Row(songplay_id=2877628088320), Row(songplay_id=2877628088321), Row(songplay_id=2886218022912), Row(songplay_id=2886218022913), Row(songplay_id=2894807957504), Row(songplay_id=2894807957505), Row(songplay_id=2894807957506), Row(songplay_id=2903397892096), Row(songplay_id=2911987826688), Row(songplay_id=2911987826689), Row(songplay_id=2911987826690), Row(songplay_id=2929167695872), Row(songplay_id=2937757630464), Row(songplay_id=2937757630465), Row(songplay_id=2937757630466), Row(songplay_id=2937757630467), Row(songplay_id=2937757630468), Row(songplay_id=2937757630469), Row(songplay_id=2946347565056), Row(songplay_id=2946347565057), Row(songplay_id=2954937499648), Row(songplay_id=2954937499649), Row(songplay_id=2963527434240), Row(songplay_id=2972117368832), Row(songplay_id=2972117368833), Row(songplay_id=2972117368834), Row(songplay_id=2972117368835), Row(songplay_id=2972117368836), Row(songplay_id=2972117368837), Row(songplay_id=2972117368838), Row(songplay_id=2972117368839), Row(songplay_id=2972117368840), Row(songplay_id=2972117368841), Row(songplay_id=2972117368842), Row(songplay_id=2972117368843), Row(songplay_id=2972117368844), Row(songplay_id=2972117368845), Row(songplay_id=2980707303424), Row(songplay_id=2980707303425), Row(songplay_id=2980707303426), Row(songplay_id=2980707303427), Row(songplay_id=2980707303428), Row(songplay_id=2980707303429), Row(songplay_id=2980707303430), Row(songplay_id=2980707303431), Row(songplay_id=2980707303432), Row(songplay_id=2980707303433), Row(songplay_id=2980707303434), Row(songplay_id=2989297238016), Row(songplay_id=2989297238017), Row(songplay_id=2989297238018), Row(songplay_id=2997887172608), Row(songplay_id=2997887172609), Row(songplay_id=2997887172610), Row(songplay_id=2997887172611), Row(songplay_id=3023656976384), Row(songplay_id=3023656976385), Row(songplay_id=3032246910976), Row(songplay_id=3040836845568), Row(songplay_id=3040836845569), Row(songplay_id=3040836845570), Row(songplay_id=3049426780160), Row(songplay_id=3049426780161), Row(songplay_id=3058016714752), Row(songplay_id=3066606649344), Row(songplay_id=3066606649345), Row(songplay_id=3075196583936), Row(songplay_id=3075196583937), Row(songplay_id=3075196583938), Row(songplay_id=3083786518528), Row(songplay_id=3092376453120), Row(songplay_id=3100966387712), Row(songplay_id=3100966387713), Row(songplay_id=3100966387714), Row(songplay_id=3100966387715), Row(songplay_id=3100966387716), Row(songplay_id=3100966387717), Row(songplay_id=3118146256896), Row(songplay_id=3118146256897), Row(songplay_id=3118146256898), Row(songplay_id=3126736191488), Row(songplay_id=3135326126080), Row(songplay_id=3135326126081), Row(songplay_id=3135326126082), Row(songplay_id=3135326126083), Row(songplay_id=3135326126084), Row(songplay_id=3143916060672), Row(songplay_id=3143916060673), Row(songplay_id=3152505995264), Row(songplay_id=3152505995265), Row(songplay_id=3152505995266), Row(songplay_id=3152505995267), Row(songplay_id=3152505995268), Row(songplay_id=3152505995269), Row(songplay_id=3152505995270), Row(songplay_id=3161095929856), Row(songplay_id=3161095929857), Row(songplay_id=3161095929858), Row(songplay_id=3169685864448), Row(songplay_id=3169685864449), Row(songplay_id=3169685864450), Row(songplay_id=3178275799040), Row(songplay_id=3178275799041), Row(songplay_id=3178275799042), Row(songplay_id=3178275799043), Row(songplay_id=3178275799044), Row(songplay_id=3178275799045), Row(songplay_id=3178275799046), Row(songplay_id=3195455668224), Row(songplay_id=3195455668225), Row(songplay_id=3204045602816), Row(songplay_id=3212635537408), Row(songplay_id=3221225472000), Row(songplay_id=3229815406592), Row(songplay_id=3246995275776), Row(songplay_id=3246995275777), Row(songplay_id=3255585210368), Row(songplay_id=3255585210369), Row(songplay_id=3255585210370), Row(songplay_id=3264175144960), Row(songplay_id=3272765079552), Row(songplay_id=3272765079553), Row(songplay_id=3272765079554), Row(songplay_id=3272765079555), Row(songplay_id=3272765079556), Row(songplay_id=3281355014144), Row(songplay_id=3281355014145), Row(songplay_id=3281355014146), Row(songplay_id=3281355014147), Row(songplay_id=3281355014148), Row(songplay_id=3281355014149), Row(songplay_id=3289944948736), Row(songplay_id=3289944948737), Row(songplay_id=3289944948738), Row(songplay_id=3298534883328), Row(songplay_id=3298534883329), Row(songplay_id=3307124817920), Row(songplay_id=3307124817921), Row(songplay_id=3341484556288), Row(songplay_id=3341484556289), Row(songplay_id=3350074490880), Row(songplay_id=3350074490881), Row(songplay_id=3350074490882), Row(songplay_id=3358664425472), Row(songplay_id=3358664425473), Row(songplay_id=3358664425474), Row(songplay_id=3358664425475), Row(songplay_id=3358664425476), Row(songplay_id=3358664425477), Row(songplay_id=3358664425478), Row(songplay_id=3367254360064), Row(songplay_id=3384434229248), Row(songplay_id=3384434229249), Row(songplay_id=3384434229250), Row(songplay_id=3384434229251), Row(songplay_id=3393024163840), Row(songplay_id=3393024163841), Row(songplay_id=3393024163842), Row(songplay_id=3393024163843), Row(songplay_id=3393024163844), Row(songplay_id=3401614098432), Row(songplay_id=3401614098433), Row(songplay_id=3401614098434), Row(songplay_id=3401614098435), Row(songplay_id=3401614098436), Row(songplay_id=3410204033024), Row(songplay_id=3410204033025), Row(songplay_id=3410204033026), Row(songplay_id=3410204033027), Row(songplay_id=3410204033028), Row(songplay_id=3418793967616), Row(songplay_id=3418793967617), Row(songplay_id=3427383902208), Row(songplay_id=3427383902209), Row(songplay_id=3435973836800), Row(songplay_id=3453153705984), Row(songplay_id=3453153705985), Row(songplay_id=3453153705986), Row(songplay_id=3453153705987), Row(songplay_id=3453153705988), Row(songplay_id=3453153705989), Row(songplay_id=3461743640576), Row(songplay_id=3470333575168), Row(songplay_id=3478923509760), Row(songplay_id=3478923509761), Row(songplay_id=3478923509762), Row(songplay_id=3487513444352), Row(songplay_id=3487513444353), Row(songplay_id=3496103378944), Row(songplay_id=3496103378945), Row(songplay_id=3496103378946), Row(songplay_id=3504693313536), Row(songplay_id=3504693313537), Row(songplay_id=3504693313538), Row(songplay_id=3504693313539), Row(songplay_id=3504693313540), Row(songplay_id=3513283248128), Row(songplay_id=3513283248129), Row(songplay_id=3513283248130), Row(songplay_id=3513283248131), Row(songplay_id=3521873182720), Row(songplay_id=3521873182721), Row(songplay_id=3530463117312), Row(songplay_id=3530463117313), Row(songplay_id=3530463117314), Row(songplay_id=3539053051904), Row(songplay_id=3539053051905), Row(songplay_id=3539053051906), Row(songplay_id=3547642986496), Row(songplay_id=3547642986497), Row(songplay_id=3547642986498), Row(songplay_id=3556232921088), Row(songplay_id=3556232921089), Row(songplay_id=3564822855680), Row(songplay_id=3564822855681), Row(songplay_id=3564822855682), Row(songplay_id=3573412790272), Row(songplay_id=3573412790273), Row(songplay_id=3582002724864), Row(songplay_id=3582002724865), Row(songplay_id=3582002724866), Row(songplay_id=3582002724867), Row(songplay_id=3582002724868), Row(songplay_id=3590592659456), Row(songplay_id=3590592659457), Row(songplay_id=3590592659458), Row(songplay_id=3590592659459), Row(songplay_id=3607772528640), Row(songplay_id=3607772528641), Row(songplay_id=3616362463232), Row(songplay_id=3616362463233), Row(songplay_id=3616362463234), Row(songplay_id=3616362463235), Row(songplay_id=3616362463236), Row(songplay_id=3616362463237), Row(songplay_id=3616362463238), Row(songplay_id=3616362463239), Row(songplay_id=3616362463240), Row(songplay_id=3616362463241), Row(songplay_id=3616362463242), Row(songplay_id=3616362463243), Row(songplay_id=3616362463244), Row(songplay_id=3616362463245), Row(songplay_id=3616362463246), Row(songplay_id=3616362463247), Row(songplay_id=3616362463248), Row(songplay_id=3616362463249), Row(songplay_id=3616362463250), Row(songplay_id=3624952397824), Row(songplay_id=3624952397825), Row(songplay_id=3624952397826), Row(songplay_id=3624952397827), Row(songplay_id=3624952397828), Row(songplay_id=3624952397829), Row(songplay_id=3624952397830), Row(songplay_id=3642132267008), Row(songplay_id=3642132267009), Row(songplay_id=3642132267010), Row(songplay_id=3642132267011), Row(songplay_id=3642132267012), Row(songplay_id=3642132267013), Row(songplay_id=3659312136192), Row(songplay_id=3659312136193), Row(songplay_id=3659312136194), Row(songplay_id=3667902070784), Row(songplay_id=3667902070785), Row(songplay_id=3667902070786), Row(songplay_id=3676492005376), Row(songplay_id=3676492005377), Row(songplay_id=3676492005378), Row(songplay_id=3676492005379), Row(songplay_id=3685081939968), Row(songplay_id=3685081939969), Row(songplay_id=3685081939970), Row(songplay_id=3685081939971), Row(songplay_id=3685081939972), Row(songplay_id=3693671874560), Row(songplay_id=3693671874561), Row(songplay_id=3702261809152), Row(songplay_id=3702261809153), Row(songplay_id=3702261809154), Row(songplay_id=3710851743744), Row(songplay_id=3710851743745), Row(songplay_id=3710851743746), Row(songplay_id=3710851743747), Row(songplay_id=3719441678336), Row(songplay_id=3719441678337), Row(songplay_id=3719441678338), Row(songplay_id=3728031612928), Row(songplay_id=3736621547520), Row(songplay_id=3736621547521), Row(songplay_id=3736621547522), Row(songplay_id=3745211482112), Row(songplay_id=3745211482113), Row(songplay_id=3745211482114), Row(songplay_id=3753801416704), Row(songplay_id=3753801416705), Row(songplay_id=3753801416706), Row(songplay_id=3753801416707), Row(songplay_id=3762391351296), Row(songplay_id=3762391351297), Row(songplay_id=3762391351298), Row(songplay_id=3770981285888), Row(songplay_id=3770981285889), Row(songplay_id=3770981285890), Row(songplay_id=3770981285891), Row(songplay_id=3770981285892), Row(songplay_id=3779571220480), Row(songplay_id=3779571220481), Row(songplay_id=3788161155072), Row(songplay_id=3788161155073), Row(songplay_id=3788161155074), Row(songplay_id=3788161155075), Row(songplay_id=3788161155076), Row(songplay_id=3796751089664), Row(songplay_id=3796751089665), Row(songplay_id=3796751089666), Row(songplay_id=3813930958848), Row(songplay_id=3813930958849), Row(songplay_id=3813930958850), Row(songplay_id=3813930958851), Row(songplay_id=3813930958852), Row(songplay_id=3813930958853), Row(songplay_id=3822520893440), Row(songplay_id=3822520893441), Row(songplay_id=3822520893442), Row(songplay_id=3831110828032), Row(songplay_id=3831110828033), Row(songplay_id=3831110828034), Row(songplay_id=3831110828035), Row(songplay_id=3839700762624), Row(songplay_id=3839700762625), Row(songplay_id=3839700762626), Row(songplay_id=3839700762627), Row(songplay_id=3848290697216), Row(songplay_id=3848290697217), Row(songplay_id=3848290697218), Row(songplay_id=3856880631808), Row(songplay_id=3856880631809), Row(songplay_id=3856880631810), Row(songplay_id=3874060500992), Row(songplay_id=3874060500993), Row(songplay_id=3874060500994), Row(songplay_id=3874060500995), Row(songplay_id=3882650435584), Row(songplay_id=3882650435585), Row(songplay_id=3882650435586), Row(songplay_id=3882650435587), Row(songplay_id=3882650435588), Row(songplay_id=3882650435589), Row(songplay_id=3891240370176), Row(songplay_id=3899830304768), Row(songplay_id=3899830304769), Row(songplay_id=3899830304770), Row(songplay_id=3899830304771), Row(songplay_id=3899830304772), Row(songplay_id=3908420239360), Row(songplay_id=3908420239361), Row(songplay_id=3917010173952), Row(songplay_id=3917010173953), Row(songplay_id=3917010173954), Row(songplay_id=3917010173955), Row(songplay_id=3917010173956), Row(songplay_id=3917010173957), Row(songplay_id=3917010173958), Row(songplay_id=3917010173959), Row(songplay_id=3917010173960), Row(songplay_id=3925600108544), Row(songplay_id=3925600108545), Row(songplay_id=3925600108546), Row(songplay_id=3925600108547), Row(songplay_id=3925600108548), Row(songplay_id=3925600108549), Row(songplay_id=3934190043136), Row(songplay_id=3934190043137), Row(songplay_id=3934190043138), Row(songplay_id=3934190043139), Row(songplay_id=3934190043140), Row(songplay_id=3934190043141), Row(songplay_id=3934190043142), Row(songplay_id=3934190043143), Row(songplay_id=3934190043144), Row(songplay_id=3934190043145), Row(songplay_id=3934190043146), Row(songplay_id=3934190043147), Row(songplay_id=3934190043148), Row(songplay_id=3942779977728), Row(songplay_id=3942779977729), Row(songplay_id=3942779977730), Row(songplay_id=3942779977731), Row(songplay_id=3942779977732), Row(songplay_id=3942779977733), Row(songplay_id=3942779977734), Row(songplay_id=3942779977735), Row(songplay_id=3942779977736), Row(songplay_id=3942779977737), Row(songplay_id=3951369912320), Row(songplay_id=3951369912321), Row(songplay_id=3951369912322), Row(songplay_id=3951369912323), Row(songplay_id=3951369912324), Row(songplay_id=3951369912325), Row(songplay_id=3951369912326), Row(songplay_id=3951369912327), Row(songplay_id=3951369912328), Row(songplay_id=3951369912329), Row(songplay_id=3951369912330), Row(songplay_id=3959959846912), Row(songplay_id=3959959846913), Row(songplay_id=3959959846914), Row(songplay_id=3959959846915), Row(songplay_id=3959959846916), Row(songplay_id=3959959846917), Row(songplay_id=3959959846918), Row(songplay_id=3959959846919), Row(songplay_id=3959959846920), Row(songplay_id=3959959846921), Row(songplay_id=3959959846922), Row(songplay_id=3959959846923), Row(songplay_id=3968549781504), Row(songplay_id=3968549781505), Row(songplay_id=3968549781506), Row(songplay_id=3968549781507), Row(songplay_id=3977139716096), Row(songplay_id=3977139716097), Row(songplay_id=3977139716098), Row(songplay_id=3977139716099), Row(songplay_id=3985729650688), Row(songplay_id=3985729650689), Row(songplay_id=3985729650690), Row(songplay_id=3985729650691), Row(songplay_id=3985729650692), Row(songplay_id=3985729650693), Row(songplay_id=3985729650694), Row(songplay_id=3985729650695), Row(songplay_id=3985729650696), Row(songplay_id=3985729650697), Row(songplay_id=3994319585280), Row(songplay_id=3994319585281)]"
     ]
    }
   ],
   "source": [
    "\n",
    "songplays_table = log_data.select(\n",
    "    col('ts').alias('start_time'),\n",
    "    col('userId').alias('user_id'),\n",
    "    col('level').alias('level'),\n",
    "    col('song_id').alias('song_id'),\n",
    "    col('artist_id').alias('artist_id'),\n",
    "    col('sessionId').alias('session_id'),\n",
    "    col('location').alias('location'),\n",
    "    year('datetime').alias('year'),\n",
    "    month('datetime').alias('month')\n",
    ")\n",
    "songplays_table.select(monotonically_increasing_id().alias('songplay_id')).collect()\n"
   ]
  },
  {
   "cell_type": "code",
   "execution_count": null,
   "id": "fdf64750",
   "metadata": {},
   "outputs": [
    {
     "data": {
      "application/vnd.jupyter.widget-view+json": {
       "model_id": "bda3fa4caff749cc8ffd6a0e9382f5ba",
       "version_major": 2,
       "version_minor": 0
      },
      "text/plain": [
       "VBox()"
      ]
     },
     "metadata": {},
     "output_type": "display_data"
    },
    {
     "data": {
      "application/vnd.jupyter.widget-view+json": {
       "model_id": "67d4235a78cf43f8b06838065ebeaf33",
       "version_major": 2,
       "version_minor": 0
      },
      "text/plain": [
       "FloatProgress(value=0.0, bar_style='info', description='Progress:', layout=Layout(height='25px', width='50%'),…"
      ]
     },
     "metadata": {},
     "output_type": "display_data"
    }
   ],
   "source": [
    "songplays_table.write.partitionBy('year','month').parquet(os.path.join(output_data, 'songplays.parquet'), 'overwrite')"
   ]
  },
  {
   "cell_type": "code",
   "execution_count": null,
   "id": "96a928a8",
   "metadata": {},
   "outputs": [],
   "source": [
    "## Clean up\n",
    "spark.stop()"
   ]
  },
  {
   "cell_type": "code",
   "execution_count": null,
   "id": "3ee41427",
   "metadata": {},
   "outputs": [],
   "source": [
    "songplays_table.printSchema()"
   ]
  },
  {
   "cell_type": "code",
   "execution_count": null,
   "id": "fb62b0c8",
   "metadata": {},
   "outputs": [],
   "source": []
  }
 ],
 "metadata": {
  "kernelspec": {
   "display_name": "PySpark",
   "language": "",
   "name": "pysparkkernel"
  },
  "language_info": {
   "codemirror_mode": {
    "name": "python",
    "version": 2
   },
   "mimetype": "text/x-python",
   "name": "pyspark",
   "pygments_lexer": "python2"
  }
 },
 "nbformat": 4,
 "nbformat_minor": 5
}
